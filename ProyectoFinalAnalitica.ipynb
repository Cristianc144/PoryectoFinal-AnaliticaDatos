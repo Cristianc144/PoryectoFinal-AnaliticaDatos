{
  "nbformat": 4,
  "nbformat_minor": 0,
  "metadata": {
    "colab": {
      "provenance": []
    },
    "kernelspec": {
      "name": "python3",
      "display_name": "Python 3"
    },
    "language_info": {
      "name": "python"
    },
    "accelerator": "GPU"
  },
  "cells": [
    {
      "cell_type": "markdown",
      "metadata": {
        "id": "SqsUbE122QNZ"
      },
      "source": [
        "# Default of credit card clients Data Set\n",
        "### Cristian Ferney Caicedo\n",
        "### Christian David Cardona\n",
        "### Jonathan Smith Llanos"
      ]
    },
    {
      "cell_type": "code",
      "metadata": {
        "id": "0v5h5EHamV5q",
        "colab": {
          "base_uri": "https://localhost:8080/"
        },
        "outputId": "b633e29c-6952-4d74-dbad-841b25f89037"
      },
      "source": [
        "#cargar datos desde drive acceso libre\n",
        "FILEID = \"1O3viIXyAB9E1z09hyQqPw8HtcF5QQt4H\"\n",
        "!wget --load-cookies /tmp/cookies.txt \"https://docs.google.com/uc?export=download&confirm=$(wget --quiet --save-cookies /tmp/cookies.txt --keep-session-cookies --no-check-certificate 'https://docs.google.com/uc?export=download&id='$FILEID -O- | sed -rn 's/.*confirm=([0-9A-Za-z_]+).*/\\1\\n/p')&id=\"$FILEID -O codigos.zip && rm -rf /tmp/cookies.txt\n",
        "!unzip codigos.zip\n",
        "!dir"
      ],
      "execution_count": null,
      "outputs": [
        {
          "output_type": "stream",
          "name": "stdout",
          "text": [
            "--2022-02-22 14:26:53--  https://docs.google.com/uc?export=download&confirm=&id=1O3viIXyAB9E1z09hyQqPw8HtcF5QQt4H\n",
            "Resolving docs.google.com (docs.google.com)... 108.177.121.113, 108.177.121.101, 108.177.121.102, ...\n",
            "Connecting to docs.google.com (docs.google.com)|108.177.121.113|:443... connected.\n",
            "HTTP request sent, awaiting response... 303 See Other\n",
            "Location: https://doc-0o-28-docs.googleusercontent.com/docs/securesc/ha0ro937gcuc7l7deffksulhg5h7mbp1/612pbj613e7loj4ns1cvme4vdd41knmd/1645539975000/04733746419931218404/*/1O3viIXyAB9E1z09hyQqPw8HtcF5QQt4H?e=download [following]\n",
            "Warning: wildcards not supported in HTTP.\n",
            "--2022-02-22 14:26:54--  https://doc-0o-28-docs.googleusercontent.com/docs/securesc/ha0ro937gcuc7l7deffksulhg5h7mbp1/612pbj613e7loj4ns1cvme4vdd41knmd/1645539975000/04733746419931218404/*/1O3viIXyAB9E1z09hyQqPw8HtcF5QQt4H?e=download\n",
            "Resolving doc-0o-28-docs.googleusercontent.com (doc-0o-28-docs.googleusercontent.com)... 108.177.120.132, 2607:f8b0:4001:c18::84\n",
            "Connecting to doc-0o-28-docs.googleusercontent.com (doc-0o-28-docs.googleusercontent.com)|108.177.120.132|:443... connected.\n",
            "HTTP request sent, awaiting response... 200 OK\n",
            "Length: 1431167 (1.4M) [application/x-zip-compressed]\n",
            "Saving to: ‘codigos.zip’\n",
            "\n",
            "codigos.zip         100%[===================>]   1.36M  --.-KB/s    in 0.02s   \n",
            "\n",
            "2022-02-22 14:26:55 (66.7 MB/s) - ‘codigos.zip’ saved [1431167/1431167]\n",
            "\n",
            "Archive:  codigos.zip\n",
            "  inflating: default of credit card clients.xls  \n",
            "codigos.zip  default\\ of\\ credit\\ card\\ clients.xls  sample_data\n"
          ]
        }
      ]
    },
    {
      "cell_type": "code",
      "metadata": {
        "id": "zrSRE3ZrrEQO",
        "colab": {
          "base_uri": "https://localhost:8080/",
          "height": 519
        },
        "outputId": "ba32a1d5-0b03-4e4f-a789-925d7a77e4b7"
      },
      "source": [
        "# Importamos las librerias:\n",
        "import pandas as pd\n",
        "import numpy as np\n",
        "import matplotlib.pyplot as plt\n",
        "import warnings\n",
        "warnings.filterwarnings(\"ignore\")\n",
        "\n",
        "from sklearn.impute import SimpleImputer \n",
        "from sklearn.model_selection import train_test_split, GridSearchCV,cross_val_score, cross_val_predict\n",
        "from sklearn.metrics import mean_absolute_error\n",
        "from sklearn.pipeline import Pipeline\n",
        "import tensorflow as tf\n",
        "from tensorflow import keras\n",
        "\n",
        "import pandas as pd\n",
        "%matplotlib inline\n",
        "csv_path = 'default of credit card clients.xls'\n",
        "Xdata = pd.read_excel(csv_path)\n",
        "\n",
        "col_rename = ['ID', 'LIMIT_BAL', 'SEX', 'EDUCATION', 'MARRIAGE', 'AGE', 'PAY_0', 'PAY_2', 'PAY_3', 'PAY_4', 'PAY_5',\n",
        "              'PAY_6', 'BILL_AMT1', 'BILL_AMT2', 'BILL_AMT3', 'BILL_AMT4', 'BILL_AMT5', 'BILL_AMT6', 'PAY_AMT1', \n",
        "              'PAY_AMT2', 'PAY_AMT3', 'PAY_AMT4', 'PAY_AMT5', 'PAY_AMT6', 'Default Payment Next Mont']\n",
        "Xdata.columns = col_rename\n",
        "Xdata.drop(index = 0, columns=\"ID\", inplace = True)\n",
        "Xdata.head()"
      ],
      "execution_count": null,
      "outputs": [
        {
          "output_type": "error",
          "ename": "ImportError",
          "evalue": "ignored",
          "traceback": [
            "\u001b[0;31m---------------------------------------------------------------------------\u001b[0m",
            "\u001b[0;31mImportError\u001b[0m                               Traceback (most recent call last)",
            "\u001b[0;32m<ipython-input-2-70d1dcfedf6f>\u001b[0m in \u001b[0;36m<module>\u001b[0;34m()\u001b[0m\n\u001b[1;32m     16\u001b[0m \u001b[0mget_ipython\u001b[0m\u001b[0;34m(\u001b[0m\u001b[0;34m)\u001b[0m\u001b[0;34m.\u001b[0m\u001b[0mmagic\u001b[0m\u001b[0;34m(\u001b[0m\u001b[0;34m'matplotlib inline'\u001b[0m\u001b[0;34m)\u001b[0m\u001b[0;34m\u001b[0m\u001b[0;34m\u001b[0m\u001b[0m\n\u001b[1;32m     17\u001b[0m \u001b[0mcsv_path\u001b[0m \u001b[0;34m=\u001b[0m \u001b[0;34m'default of credit card clients.xls'\u001b[0m\u001b[0;34m\u001b[0m\u001b[0;34m\u001b[0m\u001b[0m\n\u001b[0;32m---> 18\u001b[0;31m \u001b[0mXdata\u001b[0m \u001b[0;34m=\u001b[0m \u001b[0mpd\u001b[0m\u001b[0;34m.\u001b[0m\u001b[0mread_excel\u001b[0m\u001b[0;34m(\u001b[0m\u001b[0mcsv_path\u001b[0m\u001b[0;34m)\u001b[0m\u001b[0;34m\u001b[0m\u001b[0;34m\u001b[0m\u001b[0m\n\u001b[0m\u001b[1;32m     19\u001b[0m \u001b[0;34m\u001b[0m\u001b[0m\n\u001b[1;32m     20\u001b[0m col_rename = ['ID', 'LIMIT_BAL', 'SEX', 'EDUCATION', 'MARRIAGE', 'AGE', 'PAY_0', 'PAY_2', 'PAY_3', 'PAY_4', 'PAY_5',\n",
            "\u001b[0;32m/usr/local/lib/python3.7/dist-packages/pandas/util/_decorators.py\u001b[0m in \u001b[0;36mwrapper\u001b[0;34m(*args, **kwargs)\u001b[0m\n\u001b[1;32m    309\u001b[0m                     \u001b[0mstacklevel\u001b[0m\u001b[0;34m=\u001b[0m\u001b[0mstacklevel\u001b[0m\u001b[0;34m,\u001b[0m\u001b[0;34m\u001b[0m\u001b[0;34m\u001b[0m\u001b[0m\n\u001b[1;32m    310\u001b[0m                 )\n\u001b[0;32m--> 311\u001b[0;31m             \u001b[0;32mreturn\u001b[0m \u001b[0mfunc\u001b[0m\u001b[0;34m(\u001b[0m\u001b[0;34m*\u001b[0m\u001b[0margs\u001b[0m\u001b[0;34m,\u001b[0m \u001b[0;34m**\u001b[0m\u001b[0mkwargs\u001b[0m\u001b[0;34m)\u001b[0m\u001b[0;34m\u001b[0m\u001b[0;34m\u001b[0m\u001b[0m\n\u001b[0m\u001b[1;32m    312\u001b[0m \u001b[0;34m\u001b[0m\u001b[0m\n\u001b[1;32m    313\u001b[0m         \u001b[0;32mreturn\u001b[0m \u001b[0mwrapper\u001b[0m\u001b[0;34m\u001b[0m\u001b[0;34m\u001b[0m\u001b[0m\n",
            "\u001b[0;32m/usr/local/lib/python3.7/dist-packages/pandas/io/excel/_base.py\u001b[0m in \u001b[0;36mread_excel\u001b[0;34m(io, sheet_name, header, names, index_col, usecols, squeeze, dtype, engine, converters, true_values, false_values, skiprows, nrows, na_values, keep_default_na, na_filter, verbose, parse_dates, date_parser, thousands, comment, skipfooter, convert_float, mangle_dupe_cols, storage_options)\u001b[0m\n\u001b[1;32m    362\u001b[0m     \u001b[0;32mif\u001b[0m \u001b[0;32mnot\u001b[0m \u001b[0misinstance\u001b[0m\u001b[0;34m(\u001b[0m\u001b[0mio\u001b[0m\u001b[0;34m,\u001b[0m \u001b[0mExcelFile\u001b[0m\u001b[0;34m)\u001b[0m\u001b[0;34m:\u001b[0m\u001b[0;34m\u001b[0m\u001b[0;34m\u001b[0m\u001b[0m\n\u001b[1;32m    363\u001b[0m         \u001b[0mshould_close\u001b[0m \u001b[0;34m=\u001b[0m \u001b[0;32mTrue\u001b[0m\u001b[0;34m\u001b[0m\u001b[0;34m\u001b[0m\u001b[0m\n\u001b[0;32m--> 364\u001b[0;31m         \u001b[0mio\u001b[0m \u001b[0;34m=\u001b[0m \u001b[0mExcelFile\u001b[0m\u001b[0;34m(\u001b[0m\u001b[0mio\u001b[0m\u001b[0;34m,\u001b[0m \u001b[0mstorage_options\u001b[0m\u001b[0;34m=\u001b[0m\u001b[0mstorage_options\u001b[0m\u001b[0;34m,\u001b[0m \u001b[0mengine\u001b[0m\u001b[0;34m=\u001b[0m\u001b[0mengine\u001b[0m\u001b[0;34m)\u001b[0m\u001b[0;34m\u001b[0m\u001b[0;34m\u001b[0m\u001b[0m\n\u001b[0m\u001b[1;32m    365\u001b[0m     \u001b[0;32melif\u001b[0m \u001b[0mengine\u001b[0m \u001b[0;32mand\u001b[0m \u001b[0mengine\u001b[0m \u001b[0;34m!=\u001b[0m \u001b[0mio\u001b[0m\u001b[0;34m.\u001b[0m\u001b[0mengine\u001b[0m\u001b[0;34m:\u001b[0m\u001b[0;34m\u001b[0m\u001b[0;34m\u001b[0m\u001b[0m\n\u001b[1;32m    366\u001b[0m         raise ValueError(\n",
            "\u001b[0;32m/usr/local/lib/python3.7/dist-packages/pandas/io/excel/_base.py\u001b[0m in \u001b[0;36m__init__\u001b[0;34m(self, path_or_buffer, engine, storage_options)\u001b[0m\n\u001b[1;32m   1231\u001b[0m         \u001b[0mself\u001b[0m\u001b[0;34m.\u001b[0m\u001b[0mstorage_options\u001b[0m \u001b[0;34m=\u001b[0m \u001b[0mstorage_options\u001b[0m\u001b[0;34m\u001b[0m\u001b[0;34m\u001b[0m\u001b[0m\n\u001b[1;32m   1232\u001b[0m \u001b[0;34m\u001b[0m\u001b[0m\n\u001b[0;32m-> 1233\u001b[0;31m         \u001b[0mself\u001b[0m\u001b[0;34m.\u001b[0m\u001b[0m_reader\u001b[0m \u001b[0;34m=\u001b[0m \u001b[0mself\u001b[0m\u001b[0;34m.\u001b[0m\u001b[0m_engines\u001b[0m\u001b[0;34m[\u001b[0m\u001b[0mengine\u001b[0m\u001b[0;34m]\u001b[0m\u001b[0;34m(\u001b[0m\u001b[0mself\u001b[0m\u001b[0;34m.\u001b[0m\u001b[0m_io\u001b[0m\u001b[0;34m,\u001b[0m \u001b[0mstorage_options\u001b[0m\u001b[0;34m=\u001b[0m\u001b[0mstorage_options\u001b[0m\u001b[0;34m)\u001b[0m\u001b[0;34m\u001b[0m\u001b[0;34m\u001b[0m\u001b[0m\n\u001b[0m\u001b[1;32m   1234\u001b[0m \u001b[0;34m\u001b[0m\u001b[0m\n\u001b[1;32m   1235\u001b[0m     \u001b[0;32mdef\u001b[0m \u001b[0m__fspath__\u001b[0m\u001b[0;34m(\u001b[0m\u001b[0mself\u001b[0m\u001b[0;34m)\u001b[0m\u001b[0;34m:\u001b[0m\u001b[0;34m\u001b[0m\u001b[0;34m\u001b[0m\u001b[0m\n",
            "\u001b[0;32m/usr/local/lib/python3.7/dist-packages/pandas/io/excel/_xlrd.py\u001b[0m in \u001b[0;36m__init__\u001b[0;34m(self, filepath_or_buffer, storage_options)\u001b[0m\n\u001b[1;32m     22\u001b[0m         \"\"\"\n\u001b[1;32m     23\u001b[0m         \u001b[0merr_msg\u001b[0m \u001b[0;34m=\u001b[0m \u001b[0;34m\"Install xlrd >= 1.0.0 for Excel support\"\u001b[0m\u001b[0;34m\u001b[0m\u001b[0;34m\u001b[0m\u001b[0m\n\u001b[0;32m---> 24\u001b[0;31m         \u001b[0mimport_optional_dependency\u001b[0m\u001b[0;34m(\u001b[0m\u001b[0;34m\"xlrd\"\u001b[0m\u001b[0;34m,\u001b[0m \u001b[0mextra\u001b[0m\u001b[0;34m=\u001b[0m\u001b[0merr_msg\u001b[0m\u001b[0;34m)\u001b[0m\u001b[0;34m\u001b[0m\u001b[0;34m\u001b[0m\u001b[0m\n\u001b[0m\u001b[1;32m     25\u001b[0m         \u001b[0msuper\u001b[0m\u001b[0;34m(\u001b[0m\u001b[0;34m)\u001b[0m\u001b[0;34m.\u001b[0m\u001b[0m__init__\u001b[0m\u001b[0;34m(\u001b[0m\u001b[0mfilepath_or_buffer\u001b[0m\u001b[0;34m,\u001b[0m \u001b[0mstorage_options\u001b[0m\u001b[0;34m=\u001b[0m\u001b[0mstorage_options\u001b[0m\u001b[0;34m)\u001b[0m\u001b[0;34m\u001b[0m\u001b[0;34m\u001b[0m\u001b[0m\n\u001b[1;32m     26\u001b[0m \u001b[0;34m\u001b[0m\u001b[0m\n",
            "\u001b[0;32m/usr/local/lib/python3.7/dist-packages/pandas/compat/_optional.py\u001b[0m in \u001b[0;36mimport_optional_dependency\u001b[0;34m(name, extra, errors, min_version)\u001b[0m\n\u001b[1;32m    139\u001b[0m                 \u001b[0;32mreturn\u001b[0m \u001b[0;32mNone\u001b[0m\u001b[0;34m\u001b[0m\u001b[0;34m\u001b[0m\u001b[0m\n\u001b[1;32m    140\u001b[0m             \u001b[0;32melif\u001b[0m \u001b[0merrors\u001b[0m \u001b[0;34m==\u001b[0m \u001b[0;34m\"raise\"\u001b[0m\u001b[0;34m:\u001b[0m\u001b[0;34m\u001b[0m\u001b[0;34m\u001b[0m\u001b[0m\n\u001b[0;32m--> 141\u001b[0;31m                 \u001b[0;32mraise\u001b[0m \u001b[0mImportError\u001b[0m\u001b[0;34m(\u001b[0m\u001b[0mmsg\u001b[0m\u001b[0;34m)\u001b[0m\u001b[0;34m\u001b[0m\u001b[0;34m\u001b[0m\u001b[0m\n\u001b[0m\u001b[1;32m    142\u001b[0m \u001b[0;34m\u001b[0m\u001b[0m\n\u001b[1;32m    143\u001b[0m     \u001b[0;32mreturn\u001b[0m \u001b[0mmodule\u001b[0m\u001b[0;34m\u001b[0m\u001b[0;34m\u001b[0m\u001b[0m\n",
            "\u001b[0;31mImportError\u001b[0m: Pandas requires version '1.2.0' or newer of 'xlrd' (version '1.1.0' currently installed).",
            "",
            "\u001b[0;31m---------------------------------------------------------------------------\u001b[0;32m\nNOTE: If your import is failing due to a missing package, you can\nmanually install dependencies using either !pip or !apt.\n\nTo view examples of installing some common dependencies, click the\n\"Open Examples\" button below.\n\u001b[0;31m---------------------------------------------------------------------------\u001b[0m\n"
          ],
          "errorDetails": {
            "actions": [
              {
                "action": "open_url",
                "actionText": "Open Examples",
                "url": "/notebooks/snippets/importing_libraries.ipynb"
              }
            ]
          }
        }
      ]
    },
    {
      "cell_type": "markdown",
      "metadata": {
        "id": "iUbZBG6-ApA-"
      },
      "source": [
        "# Verificamos datos del DataFrame:"
      ]
    },
    {
      "cell_type": "code",
      "metadata": {
        "id": "RbgF2yUyr0-v"
      },
      "source": [
        "Xdata.info()"
      ],
      "execution_count": null,
      "outputs": []
    },
    {
      "cell_type": "markdown",
      "metadata": {
        "id": "aUAGf_UfKxlZ"
      },
      "source": [
        "Convertimos los valores tipo objeto del DataFrame a enteros"
      ]
    },
    {
      "cell_type": "code",
      "metadata": {
        "id": "jY5CdRLivPBk"
      },
      "source": [
        "Xdata=Xdata.astype('int')\n",
        "Xdata.info()"
      ],
      "execution_count": null,
      "outputs": []
    },
    {
      "cell_type": "markdown",
      "metadata": {
        "id": "P79HIy-r8aTT"
      },
      "source": [
        "# Analisis exploratorio:"
      ]
    },
    {
      "cell_type": "markdown",
      "metadata": {
        "id": "v8BA24bPx9qa"
      },
      "source": [
        "### Histograma de todos los atributos:"
      ]
    },
    {
      "cell_type": "code",
      "metadata": {
        "id": "0hkC0jcQ2VQD"
      },
      "source": [
        "Xdata2 = Xdata.drop(columns=\"LIMIT_BAL\")"
      ],
      "execution_count": null,
      "outputs": []
    },
    {
      "cell_type": "code",
      "metadata": {
        "id": "1P4yIuNtxEfy"
      },
      "source": [
        "Xdata.hist(layout=(6,4),figsize=(20,20))\n",
        "plt.show()"
      ],
      "execution_count": null,
      "outputs": []
    },
    {
      "cell_type": "markdown",
      "metadata": {
        "id": "PlRnYcmS6mRU"
      },
      "source": [
        "### Analisis exploratorio:"
      ]
    },
    {
      "cell_type": "markdown",
      "metadata": {
        "id": "kMEe8jaG2wSZ"
      },
      "source": [
        "### Analizaremos el monto de credito otorgado por educación:"
      ]
    },
    {
      "cell_type": "code",
      "metadata": {
        "id": "8-GUAWtI211x"
      },
      "source": [
        "plt.figure(figsize=(12,7), dpi=110)\n",
        "plt.subplot(221)\n",
        "Xdata[\"LIMIT_BAL\"].groupby(Xdata[\"EDUCATION\"]).sum().plot(kind='pie', cmap='Paired')\n",
        "plt.title(\"Diagarama de pastel\")\n",
        "\n",
        "plt.subplot(222)\n",
        "Xdata.groupby(\"EDUCATION\")[\"LIMIT_BAL\"].sum().plot(kind='bar', legend='Reverse',)\n",
        "plt.title(\"Histograma\")\n",
        "\n",
        "plt.show()"
      ],
      "execution_count": null,
      "outputs": []
    },
    {
      "cell_type": "markdown",
      "metadata": {
        "id": "h1jc1DVD3RTz"
      },
      "source": [
        "Donde:\n",
        "\n",
        "**1** indica doctorado\n",
        "\n",
        "**2** indica pregrado\n",
        "\n",
        "**3** indica bachillerato\n",
        "\n",
        "**4 en adelante** otros\n",
        "\n",
        "*Vemos que a las personas con doctorado se les hizo un préstamo mayor que el resto*"
      ]
    },
    {
      "cell_type": "markdown",
      "metadata": {
        "id": "su8WOS4RmFLg"
      },
      "source": [
        "### Analizaremos el monto de credito otorgado por género:"
      ]
    },
    {
      "cell_type": "code",
      "metadata": {
        "id": "LsAuAA9lFLPi"
      },
      "source": [
        "plt.figure(figsize=(12,7), dpi=110)\n",
        "plt.subplot(221)\n",
        "Xdata[\"LIMIT_BAL\"].groupby(Xdata[\"SEX\"]).sum().plot(kind='pie', cmap='Paired')\n",
        "plt.title(\"Diagarama de pastel\")\n",
        "\n",
        "plt.subplot(222)\n",
        "Xdata.groupby(\"SEX\")[\"LIMIT_BAL\"].sum().plot(kind='bar', legend='Reverse',)\n",
        "plt.title(\"Histograma\")\n",
        "\n",
        "plt.show()"
      ],
      "execution_count": null,
      "outputs": []
    },
    {
      "cell_type": "markdown",
      "metadata": {
        "id": "7IuNgBuAk18t"
      },
      "source": [
        "Indicando que **'1' equivale a los hombres** y **'2' a las mujeres**\n",
        "\n",
        "*Vemos que a las mujeres se le hizo un prestamo mayor que a los hombres*"
      ]
    },
    {
      "cell_type": "code",
      "metadata": {
        "id": "BsJS4n9-wZh_"
      },
      "source": [
        "genero = np.array(Xdata[\"SEX\"])\n",
        "count2 = np.zeros(4)\n",
        "# count2[0] es hombre negado\n",
        "# count2[1] es hombre aceptado\n",
        "# count2[3] es mujer negada\n",
        "# count2[4] es mujer aceptada\n",
        "for i in range (30000):\n",
        "  if (genero[i]==1):\n",
        "    count2[0] = count2[0]+1\n",
        "  if (genero[i]==2):\n",
        "    count2[1] = count2[1]+1\n",
        "\n",
        "print(count2[0])\n",
        "print(count2[1])\n",
        "total = count2[0]+count2[1]\n",
        "hombres = count2[0]/total*100\n",
        "mujeres = count2[1]/total*100\n",
        "print(hombres, mujeres)"
      ],
      "execution_count": null,
      "outputs": []
    },
    {
      "cell_type": "code",
      "metadata": {
        "id": "jRuaf7KnxAci"
      },
      "source": [
        "probabilidad_m = [hombres, mujeres]\n",
        "nombres3 =[\"MEN = 39.6%\", \"WOMEN = 60.37%\"]\n",
        "\n",
        "plt.figure(figsize=(7, 5), dpi=120)\n",
        "plt.pie(probabilidad_m, labels=nombres3)\n",
        "plt.title(\"QUANTITY MEN VS WOMEN\")"
      ],
      "execution_count": null,
      "outputs": []
    },
    {
      "cell_type": "markdown",
      "metadata": {
        "id": "7GIQvP4RA_5w"
      },
      "source": [
        "### Calculamos la probabilidad de credibilidad de clientes:\n",
        "\n",
        "---\n",
        "\n"
      ]
    },
    {
      "cell_type": "code",
      "metadata": {
        "id": "calkg87RrBfH"
      },
      "source": [
        "y_train2 = np.array(Xdata[\"Default Payment Next Mont\"])\n",
        "y_train2.shape"
      ],
      "execution_count": null,
      "outputs": []
    },
    {
      "cell_type": "code",
      "metadata": {
        "id": "hfsmf8BUor3c"
      },
      "source": [
        "i=0\n",
        "count = np.zeros(2)\n",
        "for i in range (30000):\n",
        "  if y_train2[i]==0:\n",
        "    count[0] = count[0]+1\n",
        "  else:\n",
        "    count[1] = count[1]+1\n",
        "  i = i+1\n",
        "\n",
        "total = count[0]+count[1]\n",
        "si = count[1]/total*100\n",
        "no = count[0]/total*100\n",
        "print(\"La probabilidad de clientes no creibles es:\",no, \"La probabilidad de clientes creibles es:\", si)"
      ],
      "execution_count": null,
      "outputs": []
    },
    {
      "cell_type": "markdown",
      "metadata": {
        "id": "uWQGJfJlBMny"
      },
      "source": [
        "### Calculamos la probabilidad de credibilidad a clientes por incumpliento de pago:"
      ]
    },
    {
      "cell_type": "markdown",
      "metadata": {
        "id": "pitOLefL7Ziz"
      },
      "source": [
        "#### Tomando en cuenta el género:"
      ]
    },
    {
      "cell_type": "code",
      "metadata": {
        "id": "4UwMYdpD1q58"
      },
      "source": [
        "genero = np.array(Xdata[\"SEX\"])\n",
        "count2 = np.zeros(4)\n",
        "# count2[0] es hombre negado\n",
        "# count2[1] es hombre aceptado\n",
        "# count2[3] es mujer negada\n",
        "# count2[4] es mujer aceptada\n",
        "for i in range (30000):\n",
        "  if (genero[i]==1 and y_train2[i]==0):\n",
        "    count2[0] = count2[0]+1\n",
        "  if (genero[i]==1 and y_train2[i]==1):\n",
        "    count2[1] = count2[1]+1\n",
        "  if (genero[i]==2 and y_train2[i]==0):\n",
        "    count2[2] = count2[2]+1\n",
        "  if (genero[i]==2 and y_train2[i]==1):\n",
        "    count2[3] = count2[3]+1\n",
        "\n",
        "total_h = count2[0]+count2[1]\n",
        "total_m = count2[2]+count2[3]\n",
        "hombre_no = count2[0]/total_h*100\n",
        "hombre_si = count2[1]/total_h*100\n",
        "mujer_no = count2[2]/total_m*100\n",
        "mujer_si = count2[3]/total_m*100\n",
        "\n",
        "print(\"La probabilidad de clientes hombres no creibles es:\",hombre_no, \"La probabilidad de hombres creibles es\", hombre_si)\n",
        "print(\"La probabilidad de mujeres no creibles es:\",mujer_no, \"La probabilidad de mujeres creibles es:\",mujer_si)"
      ],
      "execution_count": null,
      "outputs": []
    },
    {
      "cell_type": "code",
      "metadata": {
        "id": "LuDJ_8WFkIPR"
      },
      "source": [
        "probabilidad = [no,si]\n",
        "nombres = [\"Not credible = 78%\",\"Credible =22%\"]\n",
        "\n",
        "probabilidad_h = [hombre_no, hombre_si]\n",
        "nombres2 =[\"Not credible = 89%\", \"Credible = 11%\"]\n",
        "\n",
        "probabilidad_m = [mujer_no, mujer_si]\n",
        "nombres3 =[\"Not credible = 79%\", \"Credible = 21%\"]\n",
        "\n",
        "plt.figure(figsize=(10, 8), dpi=110)\n",
        "plt.subplot(221)\n",
        "plt.pie(probabilidad, labels=nombres)\n",
        "plt.title(\"Customer credibility\")\n",
        "\n",
        "plt.subplot(333)\n",
        "plt.pie(probabilidad_h, labels=nombres2)\n",
        "plt.title(\"Credibility of male clients\")\n",
        "\n",
        "plt.subplot(336)\n",
        "plt.pie(probabilidad_m, labels=nombres3)\n",
        "plt.title(\"Credibility of female clients\")\n",
        "\n",
        "plt.show()"
      ],
      "execution_count": null,
      "outputs": []
    },
    {
      "cell_type": "markdown",
      "metadata": {
        "id": "IDyfENLK7gW5"
      },
      "source": [
        "#### Tomando en cuenta la educación:"
      ]
    },
    {
      "cell_type": "code",
      "metadata": {
        "id": "RZpLXICG6lnc"
      },
      "source": [
        "educacion = np.array(Xdata[\"EDUCATION\"])\n",
        "count3 = np.zeros(6)\n",
        "# count3[0] es Doctorado creible\n",
        "# count3[1] es Doctorado no creible\n",
        "# count3[2] es pregrado creible\n",
        "# count3[3] es pregrado no creible\n",
        "# count3[4] es bachillerato creible\n",
        "# count3[5] es bacchillerato no creible\n",
        "for i in range (30000):\n",
        "  if (educacion[i]==1 and y_train2[i]==0):\n",
        "    count3[0] = count3[0]+1\n",
        "  if (educacion[i]==1 and y_train2[i]==1):\n",
        "    count3[1] = count3[1]+1\n",
        "  if (educacion[i]==2 and y_train2[i]==0):\n",
        "    count3[2] = count3[2]+1\n",
        "  if (educacion[i]==2 and y_train2[i]==1):\n",
        "    count3[3] = count3[3]+1\n",
        "  if (educacion[i]==3 and y_train2[i]==1):\n",
        "    count3[4] = count3[4]+1\n",
        "  if (educacion[i]==3 and y_train2[i]==1):\n",
        "    count3[5] = count3[5]+1\n",
        "\n",
        "total_d = count3[0]+count3[1]\n",
        "total_p = count3[2]+count3[3]\n",
        "total_b = count3[4]+count3[5]\n",
        "\n",
        "doctorado_no = count3[0]/total_d*100\n",
        "doctorado_si = count3[1]/total_d*100\n",
        "\n",
        "pregrado_no = count3[2]/total_p*100\n",
        "pregrado_si = count3[3]/total_p*100\n",
        "\n",
        "bachillerato_no = count3[4]/total_b*100\n",
        "bachillerato_si = count3[5]/total_b*100\n",
        "\n",
        "print(\"La probabilidad de clientes con doctorado no creibles es:\",doctorado_no, \"La probabilidad de clientes con doctorado creibles es\", doctorado_si)\n",
        "print(\"La probabilidad de clientes con pregrado no creibles es:\",pregrado_no, \"La probabilidad de clientes con pregrado creibles es:\",pregrado_si)\n",
        "print(\"La probabilidad de clientes con bachillerato no creibles es:\",bachillerato_no, \"La probabilidad de clientes con bachillerato creibles es:\",bachillerato_si)"
      ],
      "execution_count": null,
      "outputs": []
    },
    {
      "cell_type": "code",
      "metadata": {
        "id": "sCMystsgARQb"
      },
      "source": [
        "probabilidad_d = [doctorado_no, doctorado_si]\n",
        "nombres4 =[\"Not credible = 81%\", \"Credible = 19%\"]\n",
        "\n",
        "probabilidad_p = [pregrado_no, pregrado_si]\n",
        "nombres5 =[\"Not credible = 76%\", \"Credible = 24%\"]\n",
        "\n",
        "probabilidad_b = [bachillerato_no, bachillerato_si]\n",
        "nombres6 =[\"Not credible = 50%\", \"Credible = 50%\"]\n",
        "\n",
        "plt.figure(figsize=(10, 8), dpi=110)\n",
        "plt.subplot(331)\n",
        "plt.pie(probabilidad_d, labels=nombres4)\n",
        "plt.title(\"Credibility of clients with PhD\")\n",
        "\n",
        "plt.subplot(333)\n",
        "plt.pie(probabilidad_p, labels=nombres5)\n",
        "plt.title(\"Credibility of clients with professional title\")\n",
        "\n",
        "plt.subplot(335)\n",
        "plt.pie(probabilidad_b, labels=nombres6)\n",
        "plt.title(\"Credibility of clients with a high school degree\")\n",
        "\n",
        "plt.show()"
      ],
      "execution_count": null,
      "outputs": []
    },
    {
      "cell_type": "markdown",
      "metadata": {
        "id": "LUVIV3N8Lemd"
      },
      "source": [
        "# Dividimos la base de datos en Entrenamiento, Validación y Test:"
      ]
    },
    {
      "cell_type": "code",
      "metadata": {
        "id": "e7wXW9qpsm3b"
      },
      "source": [
        "from sklearn.model_selection import StratifiedShuffleSplit\n",
        "salida = 'Default Payment Next Mont'\n",
        "y_data = Xdata[salida]\n",
        "X_data = Xdata.drop(columns='Default Payment Next Mont')\n",
        "split = StratifiedShuffleSplit(n_splits=1, test_size=0.2, random_state=42)\n",
        "for train_index, test_index in split.split(X_data, y_data):\n",
        "    X_train_full = X_data.iloc[train_index]\n",
        "    X_test = X_data.iloc[test_index]\n",
        "    y_train_full = y_data.iloc[train_index]\n",
        "    y_test = y_data.iloc[test_index]\n",
        "    \n",
        "for train_index, valid_index in split.split(X_train_full, y_train_full):\n",
        "    X_train = X_train_full.iloc[train_index]\n",
        "    X_valid = X_train_full.iloc[valid_index]\n",
        "    y_train = y_train_full.iloc[train_index]\n",
        "    y_valid = y_train_full.iloc[valid_index]   "
      ],
      "execution_count": null,
      "outputs": []
    },
    {
      "cell_type": "code",
      "metadata": {
        "id": "_2OTiUuLxZ2E"
      },
      "source": [
        "import seaborn as sns\n",
        "plt.figure(figsize=(8, 5), dpi=80)\n",
        "sns.distplot(y_train, bins=10, label=\"Indicando 0 como 'no' y 1 como 'si'\")\n",
        "plt.title(\"Histograma de credibilidad de clientes\")\n",
        "plt.legend()\n",
        "plt.show()"
      ],
      "execution_count": null,
      "outputs": []
    },
    {
      "cell_type": "markdown",
      "metadata": {
        "id": "B_1jmizl9BR-"
      },
      "source": [
        "### Diagrama de dispersión:"
      ]
    },
    {
      "cell_type": "code",
      "metadata": {
        "id": "3Z7n_B2Q9RdH"
      },
      "source": [
        "from sklearn.decomposition import PCA\n",
        "zpca = PCA(n_components=2).fit_transform(X_train)\n",
        "zpca.shape"
      ],
      "execution_count": null,
      "outputs": []
    },
    {
      "cell_type": "code",
      "metadata": {
        "id": "cIFU6r3F9EwS"
      },
      "source": [
        "plt.figure(figsize=(10,7))\n",
        "plt.scatter(zpca[:,0],zpca[:,1],c=y_train, alpha=0.8)\n",
        "plt.title(\"SCATTER OF DATABASE\")\n",
        "plt.legend()\n",
        "plt.colorbar()\n",
        "plt.show()"
      ],
      "execution_count": null,
      "outputs": []
    },
    {
      "cell_type": "markdown",
      "metadata": {
        "id": "E1V5luzo_8_Y"
      },
      "source": [
        "## Matriz de correlación:"
      ]
    },
    {
      "cell_type": "code",
      "metadata": {
        "id": "IJaXAlaFhAjR"
      },
      "source": [
        "corr_matrix = Xdata.corr()\n",
        "corr_matrix.style.background_gradient(cmap='coolwarm')"
      ],
      "execution_count": null,
      "outputs": []
    },
    {
      "cell_type": "code",
      "metadata": {
        "id": "Y-174k8QHJH6"
      },
      "source": [
        "import seaborn as sns\n",
        "plt.figure(figsize=(12,7), dpi=100)\n",
        "sns.heatmap(corr_matrix,xticklabels=corr_matrix.columns.values,yticklabels=corr_matrix.columns.values)\n",
        "plt.tight_layout()\n",
        "#plt.savefig('results/corr_matrix.pdf', format='pdf', dpi=300)\n",
        "plt.show()"
      ],
      "execution_count": null,
      "outputs": []
    },
    {
      "cell_type": "markdown",
      "metadata": {
        "id": "ut7wBO9qjljg"
      },
      "source": [
        "# Normalizamos con StandardScaler"
      ]
    },
    {
      "cell_type": "code",
      "metadata": {
        "id": "GucqwuHgjrnU"
      },
      "source": [
        "from sklearn.preprocessing import StandardScaler\n",
        "scaler = StandardScaler()\n",
        "X_train = scaler.fit_transform(X_train)\n",
        "X_valid = scaler.transform(X_valid)\n",
        "X_test = scaler.transform(X_test)"
      ],
      "execution_count": null,
      "outputs": []
    },
    {
      "cell_type": "markdown",
      "metadata": {
        "id": "PDMB_43f_Pv4"
      },
      "source": [
        "# Realizamos modelo con Redes Neuronales Funcionales"
      ]
    },
    {
      "cell_type": "code",
      "metadata": {
        "id": "fi_aOdzd1zk9"
      },
      "source": [
        "input_l = tf.keras.layers.Input(shape=(X_train.shape[1:]), name='entrada')\n",
        "h1 = tf.keras.layers.Dense(300,activation='tanh',name='h1')(input_l)\n",
        "h2 = tf.keras.layers.Dense(150,activation='tanh',name='h2')(h1)\n",
        "h3 = tf.keras.layers.Dense(75,activation='tanh',name='h3')(h2)\n",
        "h4 = tf.keras.layers.Dense(30,activation='tanh',name='h4')(h3)\n",
        "output = tf.keras.layers.Dense(1,activation=\"sigmoid\",name='output')(h4)\n",
        "model_fun = tf.keras.Model(inputs=input_l,outputs=output)\n",
        "model_fun.summary()\n",
        "tf.keras.utils.plot_model(model_fun)"
      ],
      "execution_count": null,
      "outputs": []
    },
    {
      "cell_type": "markdown",
      "metadata": {
        "id": "rbCuKjT6MzfM"
      },
      "source": [
        "## Compilamos modelo:"
      ]
    },
    {
      "cell_type": "code",
      "metadata": {
        "id": "LYWCRqvwL5t6"
      },
      "source": [
        "model_fun.compile(loss=\"binary_crossentropy\", optimizer=\"sgd\", metrics=[\"accuracy\"])"
      ],
      "execution_count": null,
      "outputs": []
    },
    {
      "cell_type": "markdown",
      "metadata": {
        "id": "mvFYU8CZORod"
      },
      "source": [
        "## Entrenamos el modelo:"
      ]
    },
    {
      "cell_type": "code",
      "metadata": {
        "id": "r19XqsCNNL18"
      },
      "source": [
        "\n",
        "history = model_fun.fit(X_train, y_train, epochs=100, validation_data=(X_valid, y_valid))\n"
      ],
      "execution_count": null,
      "outputs": []
    },
    {
      "cell_type": "markdown",
      "metadata": {
        "id": "nmggY8hKHt-F"
      },
      "source": [
        "\n",
        "### Graficamos la relación entre el loss y el accuracy\n"
      ]
    },
    {
      "cell_type": "code",
      "metadata": {
        "id": "vf6AUoi_Awq5"
      },
      "source": [
        "history.history.keys()"
      ],
      "execution_count": null,
      "outputs": []
    },
    {
      "cell_type": "code",
      "metadata": {
        "id": "oQrgRzCJRw2k"
      },
      "source": [
        "0"
      ],
      "execution_count": null,
      "outputs": []
    },
    {
      "cell_type": "markdown",
      "metadata": {
        "id": "Pry8TWX0BWxH"
      },
      "source": [
        "### Evaluamos el modelo:"
      ]
    },
    {
      "cell_type": "code",
      "metadata": {
        "id": "6BB7Shs3AzGb"
      },
      "source": [
        "model_fun.evaluate(X_test, y_test)"
      ],
      "execution_count": null,
      "outputs": []
    },
    {
      "cell_type": "markdown",
      "metadata": {
        "id": "qE8GwkxvCFt7"
      },
      "source": [
        "# Realizamos las predicciones:"
      ]
    },
    {
      "cell_type": "code",
      "metadata": {
        "id": "vHAqgA9Byv4N"
      },
      "source": [
        "defi = model_fun.predict(X_test) #output\n",
        "defi.shape"
      ],
      "execution_count": null,
      "outputs": []
    },
    {
      "cell_type": "markdown",
      "metadata": {
        "id": "UWm8EZ3pr-tT"
      },
      "source": [
        "## Curva ROC:"
      ]
    },
    {
      "cell_type": "code",
      "metadata": {
        "id": "GEXYq4acr8lx"
      },
      "source": [
        "from sklearn.metrics import roc_curve\n",
        "fpr_keras, tpr_keras, thresholds_keras = roc_curve(y_test, defi)\n",
        "from sklearn.metrics import auc\n",
        "auc_keras = auc(fpr_keras, tpr_keras)"
      ],
      "execution_count": null,
      "outputs": []
    },
    {
      "cell_type": "code",
      "metadata": {
        "id": "Mn1zBhbr4B8y"
      },
      "source": [
        "plt.figure(figsize=(7,4), dpi=110)\n",
        "plt.plot(fpr_keras, tpr_keras, label='Keras (area = {:.3f})'.format(auc_keras))\n",
        "\n",
        "plt.xlabel('False positive rate')\n",
        "plt.ylabel('True positive rate')\n",
        "plt.title('ROC curve')\n",
        "plt.legend(loc='best')\n",
        "plt.grid()\n",
        "plt.show()"
      ],
      "execution_count": null,
      "outputs": []
    },
    {
      "cell_type": "markdown",
      "metadata": {
        "id": "Sh7IGFUd7zV6"
      },
      "source": [
        "## Matriz de confusion"
      ]
    },
    {
      "cell_type": "code",
      "metadata": {
        "id": "N_3d2Y1sVCa8"
      },
      "source": [
        "def plot_confusion_matrix(y_true, y_pred,\n",
        "                          normalize=False,\n",
        "                          title=None,\n",
        "                          cmap=plt.cm.Blues):\n",
        "    \"\"\"\n",
        "    This function prints and plots the confusion matrix.\n",
        "    Normalization can be applied by setting `normalize=True`.\n",
        "    \"\"\"\n",
        "    if not title:\n",
        "        if normalize:\n",
        "            title = 'Normalized confusion matrix'\n",
        "        else:\n",
        "            title = 'Confusion matrix, without normalization'\n",
        "\n",
        "    # Compute confusion matrix\n",
        "    cm = confusion_matrix(y_true, y_pred)\n",
        "    # Only use the labels that appear in the data\n",
        "    # classes = classes[unique_labels(y_true, y_pred)]\n",
        "    if normalize:\n",
        "        cm = 100*cm.astype('float') / cm.sum(axis=1)[:, np.newaxis]\n",
        "    \n",
        "    \n",
        "    fig, ax = plt.subplots()\n",
        "    im = ax.imshow(cm, interpolation='nearest', cmap=cmap)\n",
        "    ax.figure.colorbar(im, ax=ax)\n",
        "    # We want to show all ticks...\n",
        "    ax.set(xticks=np.arange(cm.shape[1]),\n",
        "           yticks=np.arange(cm.shape[0]),\n",
        "           # ... and label them with the respective list entries\n",
        "          \n",
        "           title=title,\n",
        "           ylabel='True label',\n",
        "           xlabel='Predicted label')\n",
        "\n",
        "    # Rotate the tick labels and set their alignment.\n",
        "    plt.setp(ax.get_xticklabels(), rotation=45, ha=\"right\",\n",
        "             rotation_mode=\"anchor\")\n",
        "\n",
        "    # Loop over data dimensions and create text annotations.\n",
        "    fmt = '.1f' if normalize else 'd'\n",
        "    thresh = cm.max() / 2.\n",
        "    for i in range(cm.shape[0]):\n",
        "        for j in range(cm.shape[1]):\n",
        "            ax.text(j, i, format(cm[i, j], fmt),\n",
        "                    ha=\"center\", va=\"center\",\n",
        "                    color=\"white\" if cm[i, j] > thresh else \"black\")\n",
        "    fig.tight_layout()\n",
        "    return ax"
      ],
      "execution_count": null,
      "outputs": []
    },
    {
      "cell_type": "code",
      "metadata": {
        "id": "SjiZFvNEhRUu"
      },
      "source": [
        "\n",
        "defi_b = (defi>=0.5).astype(\"int\").ravel()\n",
        "no = np.array(['No confiable'])\n",
        "si = np.array(['Confiable'])\n",
        "a = np.concatenate((no,si))"
      ],
      "execution_count": null,
      "outputs": []
    },
    {
      "cell_type": "code",
      "metadata": {
        "id": "HiFZtkcLNH8V"
      },
      "source": [
        "from sklearn.metrics import confusion_matrix\n",
        "from sklearn.metrics import confusion_matrix, accuracy_score, classification_report\n",
        "from sklearn.utils.multiclass import unique_labels\n",
        "\n",
        "acc = accuracy_score(y_test, defi_b)\n",
        "plot_confusion_matrix(y_test, defi_b, normalize=True, title='ACC = %.1f %%' % (100*acc))\n",
        "plt.autoscale()                  \n",
        "plt.show()"
      ],
      "execution_count": null,
      "outputs": []
    },
    {
      "cell_type": "markdown",
      "metadata": {
        "id": "9hSiLl8JR66Z"
      },
      "source": [
        "## Analisis exploratorio PCA por capas:"
      ]
    },
    {
      "cell_type": "code",
      "metadata": {
        "id": "GAS00PyTTAiD"
      },
      "source": [
        "model_B = tf.keras.Model(inputs=model_fun.inputs,outputs=model_fun.get_layer('h1').output) #se accede a capas por nombre\n",
        "tf.keras.utils.plot_model(model_B) # modleo ya esta ajustado!\n",
        "zb = model_B.predict(X_train) # salida en h4\n",
        "zpcb = PCA(n_components=2).fit_transform(zb)\n",
        "\n",
        "model_C = tf.keras.Model(inputs=model_fun.inputs,outputs=model_fun.get_layer('h2').output) #se accede a capas por nombre\n",
        "tf.keras.utils.plot_model(model_C) # modleo ya esta ajustado!\n",
        "zc = model_C.predict(X_train) # salida en h4\n",
        "zpcc = PCA(n_components=2).fit_transform(zc)\n",
        "\n",
        "model_D = tf.keras.Model(inputs=model_fun.inputs,outputs=model_fun.get_layer('h3').output) #se accede a capas por nombre\n",
        "tf.keras.utils.plot_model(model_D) # modleo ya esta ajustado!\n",
        "zd = model_D.predict(X_train) # salida en h4\n",
        "zpcd = PCA(n_components=2).fit_transform(zd)\n",
        "\n",
        "model_E = tf.keras.Model(inputs=model_fun.inputs,outputs=model_fun.get_layer('h4').output) #se accede a capas por nombre\n",
        "tf.keras.utils.plot_model(model_E) # modleo ya esta ajustado!\n",
        "ze = model_E.predict(X_train) # salida en h4\n",
        "zpce = PCA(n_components=2).fit_transform(ze)\n",
        "\n",
        "plt.figure(figsize=(15,8))\n",
        "\n",
        "plt.subplot(221)\n",
        "plt.scatter(zpcb[:,0],zpcb[:,1],c=y_train)\n",
        "plt.colorbar()\n",
        "\n",
        "plt.subplot(222)\n",
        "plt.scatter(zpcc[:,0],zpcb[:,1],c=y_train)\n",
        "plt.colorbar()\n",
        "\n",
        "plt.subplot(223)\n",
        "plt.scatter(zpcd[:,0],zpcd[:,1],c=y_train)\n",
        "plt.colorbar()\n",
        "\n",
        "plt.subplot(224)\n",
        "plt.scatter(zpce[:,0],zpce[:,1],c=y_train)\n",
        "plt.colorbar()\n",
        "plt.show()"
      ],
      "execution_count": null,
      "outputs": []
    },
    {
      "cell_type": "code",
      "metadata": {
        "id": "kyLb1nWhM228"
      },
      "source": [
        "X_train.shape"
      ],
      "execution_count": null,
      "outputs": []
    },
    {
      "cell_type": "code",
      "metadata": {
        "id": "w2mOChq0M47X"
      },
      "source": [
        "X_train_full.shape"
      ],
      "execution_count": null,
      "outputs": []
    },
    {
      "cell_type": "code",
      "metadata": {
        "id": "FJNINADiNAay"
      },
      "source": [
        "print(X_data.shape)\n",
        "print(X_train.shape)\n",
        "print(X_valid.shape)\n",
        "print(X_test.shape)"
      ],
      "execution_count": null,
      "outputs": []
    },
    {
      "cell_type": "code",
      "metadata": {
        "id": "Z9oa1PyJNQmL"
      },
      "source": [
        "print(y_data.shape)\n",
        "print(y_train.shape)\n",
        "print(y_valid.shape)\n",
        "print(y_test.shape)"
      ],
      "execution_count": null,
      "outputs": []
    },
    {
      "cell_type": "code",
      "metadata": {
        "id": "ua1DaBM0n_21"
      },
      "source": [],
      "execution_count": null,
      "outputs": []
    }
  ]
}